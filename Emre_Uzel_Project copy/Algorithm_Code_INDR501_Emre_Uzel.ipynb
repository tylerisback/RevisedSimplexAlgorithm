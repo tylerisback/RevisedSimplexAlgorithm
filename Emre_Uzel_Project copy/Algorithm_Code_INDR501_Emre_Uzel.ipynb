{
 "cells": [
  {
   "cell_type": "code",
   "execution_count": 18,
   "metadata": {},
   "outputs": [],
   "source": [
    "import numpy as np\n",
    "import sys as sys\n",
    "import tkinter as tk"
   ]
  },
  {
   "cell_type": "code",
   "execution_count": 19,
   "metadata": {},
   "outputs": [],
   "source": [
    "#Function to find E\n",
    "def find_E(y,i, entering_variable):\n",
    "    new_A = np.zeros(len(y))\n",
    "    pivot = y[i]\n",
    "    for j in range(len(y)):\n",
    "        if j == i:\n",
    "            new_A[j] =  1 / pivot\n",
    "        else:\n",
    "            new_A[j] =  - y[j] / pivot\n",
    "    E = np.identity(count_slack)\n",
    "    E[:, i] = new_A\n",
    "    return E"
   ]
  },
  {
   "cell_type": "code",
   "execution_count": 20,
   "metadata": {},
   "outputs": [],
   "source": [
    "#Function for optimality Check\n",
    "def opt_check(C_b, B_inv, N_C, C_n, initial_solution):\n",
    "    w = np.matmul(C_b, B_inv)\n",
    "    red_costs = np.matmul(w, N_C) - C_n\n",
    "    \n",
    "    neg_count = 0\n",
    "    for i in range(len(red_costs)):\n",
    "        if red_costs[i] <  0:\n",
    "            neg_count +=1\n",
    "\n",
    "    if neg_count == 0 :\n",
    "        print('We reached an optimum solution.', '\\n')\n",
    "        print('The B inverse is', B_inv , '\\n')\n",
    "        print('The solution is', z - initial_solution , '\\n')\n",
    "        print('Basis variables are ', basis_vars, 'and their values are respectively', X_b.T)\n",
    "        sys.exit()\n",
    "    else:\n",
    "        print(\"We haven't reached an optimal solution. Continue iterating.\")"
   ]
  },
  {
   "cell_type": "code",
   "execution_count": 21,
   "metadata": {},
   "outputs": [
    {
     "data": {
      "text/plain": [
       "[3, 5, 6, 7, 5, 4, 1, 2, 3]"
      ]
     },
     "execution_count": 21,
     "metadata": {},
     "output_type": "execute_result"
    }
   ],
   "source": [
    "q= [3,5,6,7,5,4,1,2,3]\n",
    "q"
   ]
  },
  {
   "cell_type": "code",
   "execution_count": 22,
   "metadata": {},
   "outputs": [
    {
     "name": "stdout",
     "output_type": "stream",
     "text": [
      "Enter the number of variables:3\n",
      "Please Enter C values respectively: 5\n",
      "Please Enter C values respectively: 2\n",
      "Please Enter C values respectively: 9\n",
      "C values are as follows:  [5, 2, 9]\n",
      "Please Enter A values(row wise): 2\n",
      "Please Enter A values(row wise): 4\n",
      "Please Enter A values(row wise): 1\n",
      "Please Enter A values(row wise): 3\n",
      "Please Enter A values(row wise): 3\n",
      "Please Enter A values(row wise): 1\n",
      "Please Enter A values(row wise): -1\n",
      "Please Enter A values(row wise): 5\n",
      "Please Enter A values(row wise): 1\n",
      "Please Enter b values respectively: 150\n",
      "Please Enter b values respectively: 90\n",
      "Please Enter b values respectively: 120\n",
      "Please Enter equality constraints respectively ('=' or '>='  or '<='): <=\n",
      "Please Enter equality constraints respectively ('=' or '>='  or '<='): <=\n",
      "Please Enter equality constraints respectively ('=' or '>='  or '<='): >=\n"
     ]
    }
   ],
   "source": [
    "# You can comment here and initialize like  in the below cell. If you find it complicated.\n",
    "\n",
    "V = int(input(\"Enter the number of variables:\")) \n",
    "C = []\n",
    "for i in range(V):\n",
    "    C.append(int(input('Please Enter C values respectively: ')))\n",
    "print('C values are as follows: ' , C)\n",
    "A = []\n",
    "for i in range(V):\n",
    "    for i in range(3):\n",
    "        A.append(int(input('Please Enter A values(row wise): ')))\n",
    "\n",
    "A = np.array(A)\n",
    "\n",
    "if V > 1:\n",
    "    A = A.reshape(3,V)\n",
    "elif V ==1:\n",
    "    A= A.reshape(3,1)\n",
    "    \n",
    "b= []\n",
    "for i in range(3):\n",
    "    b.append(int(input('Please Enter b values respectively: ')))\n",
    "    \n",
    "equ_cons =[]\n",
    "for i in range(3):\n",
    "    equ_cons.append(input(\"Please Enter equality constraints respectively ('=' or '>='  or '<='): \"))"
   ]
  },
  {
   "cell_type": "code",
   "execution_count": null,
   "metadata": {},
   "outputs": [],
   "source": []
  },
  {
   "cell_type": "code",
   "execution_count": 23,
   "metadata": {},
   "outputs": [],
   "source": [
    "## Algoritm Code Implementation by Emre_Uzel\n",
    "## In this step we look at if we need to add any artificial variables,\n",
    "## If yes, we add them to code and do row operations \n",
    "## to have initial B to make problem ready for revised simplex\n",
    "## You can just change C , A and b values and implement algorithm to see the results\n",
    "\n",
    "#C = [5, 2, 9]\n",
    "#A = [[2,4,1],\n",
    "#     [3,3,1],\n",
    "#     [-1,5,1]]\n",
    "\n",
    "\n",
    "x_vars= []\n",
    "for i in range(len(C)):\n",
    "    x_vars.append('x' + str(i+1))\n",
    "\n",
    "\n",
    "\n",
    "\n",
    "#b = [150, 90, 120]\n",
    "initial_solution = 0\n",
    "#equ_cons = ['<=', '<=', '>=']\n",
    "M=100\n",
    "count_s = 0\n",
    "\n",
    "count_big = []# Count of >= constraints\n",
    "count_eq = []# Count of = constraints\n",
    "count_low = []# Count of <= constraints\n",
    "\n",
    "for i in range(len(equ_cons)):\n",
    "    if equ_cons[i] == '=':\n",
    "        count_s += 1\n",
    "        count_eq.append(i)\n",
    "    elif equ_cons[i] == '>=':\n",
    "        count_s += 2\n",
    "        count_big.append(i)\n",
    "    elif equ_cons[i] == '<=':\n",
    "        count_s += 1\n",
    "        count_low.append(i)"
   ]
  },
  {
   "cell_type": "code",
   "execution_count": 24,
   "metadata": {},
   "outputs": [
    {
     "data": {
      "text/plain": [
       "['x1', 'x2', 'x3']"
      ]
     },
     "execution_count": 24,
     "metadata": {},
     "output_type": "execute_result"
    }
   ],
   "source": [
    "x_vars"
   ]
  },
  {
   "cell_type": "code",
   "execution_count": 25,
   "metadata": {},
   "outputs": [
    {
     "data": {
      "text/plain": [
       "[150, 90, 120]"
      ]
     },
     "execution_count": 25,
     "metadata": {},
     "output_type": "execute_result"
    }
   ],
   "source": [
    "b"
   ]
  },
  {
   "cell_type": "code",
   "execution_count": 26,
   "metadata": {},
   "outputs": [
    {
     "data": {
      "text/plain": [
       "['s1', 's2', 's3', 's4']"
      ]
     },
     "execution_count": 26,
     "metadata": {},
     "output_type": "execute_result"
    }
   ],
   "source": [
    "s_vars = []\n",
    "for i in range(count_s):\n",
    "    s_vars.append('s' + str(i+1))\n",
    "s_vars"
   ]
  },
  {
   "cell_type": "code",
   "execution_count": 27,
   "metadata": {},
   "outputs": [
    {
     "data": {
      "text/plain": [
       "array([0., 0., 0., 0.])"
      ]
     },
     "execution_count": 27,
     "metadata": {},
     "output_type": "execute_result"
    }
   ],
   "source": [
    "add_A =np.zeros((3,count_s))\n",
    "add_A\n",
    "add_C = np.zeros((count_s))\n",
    "add_C"
   ]
  },
  {
   "cell_type": "code",
   "execution_count": 28,
   "metadata": {},
   "outputs": [],
   "source": [
    "# Determining positions of Slack and Artifical Variable to add first problem.\n",
    "\n",
    "if len(count_big) == 3:\n",
    "    for i in (count_big):\n",
    "        if i == 0:\n",
    "            add_A[i,0] = -1\n",
    "            add_A[i,3] =  1\n",
    "            add_C[0] = 0\n",
    "            add_C[3] = -M\n",
    "        elif i == 1:\n",
    "            add_A[i,1] = -1\n",
    "            add_A[i,4] =  1\n",
    "            add_C[1] = 0\n",
    "            add_C[4] = -M\n",
    "        elif i == 2:\n",
    "            add_A[i,2] = -1\n",
    "            add_A[i,5] =  1\n",
    "            add_C[2] = 0\n",
    "            add_C[5] = -M\n",
    "            \n",
    "if len(count_big) == 2:\n",
    "    if count_big == [0,1]:\n",
    "        add_A[0,0] = -1\n",
    "        add_C[0] = 0\n",
    "        add_A[0,2] =  1\n",
    "        add_C[2] = -M\n",
    "        add_A[1,1] = -1\n",
    "        add_C[1] = 0\n",
    "        add_A[1,3] =  1\n",
    "        add_C[3] = -M\n",
    "        add_A[2,4] = 1\n",
    "        if count_eq == [2]:\n",
    "            add_C[4] = -M\n",
    "        elif count_low == [2]:\n",
    "            add_C[4] = 0\n",
    "            \n",
    "    elif count_big == [0,2]:\n",
    "        add_A[0,0] = -1\n",
    "        add_C[0] = 0\n",
    "        add_A[0,2] =  1\n",
    "        add_C[2] = -M\n",
    "        if count_eq == [1]:\n",
    "            add_A[1,3] = 1\n",
    "            add_C[3] = -M\n",
    "        elif count_low == [1]:\n",
    "            add_A[1,3] = 1\n",
    "            add_C[3] = 0\n",
    "        add_A[2,1] = -1\n",
    "        add_C[1] = 0\n",
    "        add_A[2,4] =  1\n",
    "        add_C[4] = -M\n",
    "        \n",
    "    elif count_big == [1,2]:\n",
    "        if count_eq == [0]:\n",
    "            add_A[0,2] = 1\n",
    "            add_C[2] = -M\n",
    "        elif count_low == [0]:\n",
    "            add_A[0,2] = 1\n",
    "            add_C[2] = 0\n",
    "        add_A[1,0] = -1\n",
    "        add_C[0] = 0\n",
    "        add_A[1,3] =  1\n",
    "        add_C[3] = -M\n",
    "        add_A[2,1] = -1\n",
    "        add_C[1] = 0\n",
    "        add_A[2,4] =  1\n",
    "        add_C[4] = -M\n",
    "        \n",
    "if len(count_big) == 1:\n",
    "    if count_big == [0]:\n",
    "        add_A[0,0] = -1\n",
    "        add_A[0,1] =  1\n",
    "        add_C[0] = 0\n",
    "        add_C[1] = -M\n",
    "        if count_eq == [1,2]:\n",
    "            add_A[1,2] = 1\n",
    "            add_A[2,3] = 1\n",
    "            add_C[2] = -M\n",
    "            add_C[3] = -M\n",
    "        elif count_low == [1,2]:\n",
    "            add_A[1,2] = 1\n",
    "            add_A[2,3] = 1\n",
    "            add_C[2] = 0\n",
    "            add_C[3] = 0\n",
    "            \n",
    "    if count_big == [1]:\n",
    "        add_A[1,0] = -1\n",
    "        add_A[1,2] =  1\n",
    "        add_C[0] = 0\n",
    "        add_C[2] = -M\n",
    "        if count_eq == [0,2]:\n",
    "            add_A[0,1] = 1\n",
    "            add_A[2,3] = 1\n",
    "            add_C[1] = -M\n",
    "            add_C[3] = -M\n",
    "        elif count_low == [0,2]:\n",
    "            add_A[0,1] = 1\n",
    "            add_A[2,3] = 1\n",
    "            add_C[1] = 0\n",
    "            add_C[3] = 0\n",
    "            \n",
    "    if count_big == [2]:\n",
    "        add_A[2,0] = -1\n",
    "        add_A[2,3] =  1\n",
    "        add_C[0] = 0\n",
    "        add_C[3] = -M\n",
    "        if count_eq == [0,1]:\n",
    "            add_A[0,1] = 1\n",
    "            add_A[1,2] = 1\n",
    "            add_C[1] = -M\n",
    "            add_C[2] = -M\n",
    "        elif count_low == [0,1]:\n",
    "            add_A[0,1] = 1\n",
    "            add_A[1,2] = 1\n",
    "            add_C[1] = 0\n",
    "            add_C[2] = 0\n",
    "        "
   ]
  },
  {
   "cell_type": "code",
   "execution_count": 29,
   "metadata": {},
   "outputs": [],
   "source": [
    "# Addition of Slack and Artifical Variables to add first problem.\n",
    "new_C= np.append(C, add_C)\n",
    "new_A = np.concatenate((A,add_A), axis =1)"
   ]
  },
  {
   "cell_type": "code",
   "execution_count": 30,
   "metadata": {},
   "outputs": [
    {
     "data": {
      "text/plain": [
       "array([[ 2.,  4.,  1.,  0.,  1.,  0.,  0.],\n",
       "       [ 3.,  3.,  1.,  0.,  0.,  1.,  0.],\n",
       "       [-1.,  5.,  1., -1.,  0.,  0.,  1.]])"
      ]
     },
     "execution_count": 30,
     "metadata": {},
     "output_type": "execute_result"
    }
   ],
   "source": [
    "new_A"
   ]
  },
  {
   "cell_type": "code",
   "execution_count": 31,
   "metadata": {},
   "outputs": [
    {
     "data": {
      "text/plain": [
       "array([   5.,    2.,    9.,    0.,    0.,    0., -100.])"
      ]
     },
     "execution_count": 31,
     "metadata": {},
     "output_type": "execute_result"
    }
   ],
   "source": [
    "new_C"
   ]
  },
  {
   "cell_type": "code",
   "execution_count": 32,
   "metadata": {},
   "outputs": [
    {
     "name": "stdout",
     "output_type": "stream",
     "text": [
      "Third\n"
     ]
    }
   ],
   "source": [
    "## Row operations to get first shape before revised simplex\n",
    "\n",
    "min_val = np.min(new_C)\n",
    "arg_mins= []\n",
    "for i in range(len(new_C)):\n",
    "    if new_C[i] == min_val:\n",
    "        arg_mins.append(i)\n",
    "        \n",
    "\n",
    "for i in arg_mins:\n",
    "    if list(new_A[:,i]) == [1, 0, 0]:\n",
    "        print('First')\n",
    "        new_C += new_A[0,:] * (- min_val)\n",
    "        initial_solution += b[0] * (- min_val)\n",
    "    elif list(new_A[:,i]) == [0, 1, 0]:\n",
    "        print('Second')\n",
    "        new_C += new_A[1,:] * (- min_val)\n",
    "        initial_solution += b[1] * (- min_val)\n",
    "    elif list(new_A[:,i]) == [0, 0, 1]:\n",
    "        print('Third')\n",
    "        new_C += new_A[2,:] * (- min_val)        \n",
    "        initial_solution += b[2] * (- min_val)"
   ]
  },
  {
   "cell_type": "code",
   "execution_count": 33,
   "metadata": {},
   "outputs": [
    {
     "data": {
      "text/plain": [
       "array([ -95.,  502.,  109., -100.,    0.,    0.,    0.])"
      ]
     },
     "execution_count": 33,
     "metadata": {},
     "output_type": "execute_result"
    }
   ],
   "source": [
    "new_C\n"
   ]
  },
  {
   "cell_type": "code",
   "execution_count": 34,
   "metadata": {},
   "outputs": [
    {
     "data": {
      "text/plain": [
       "12000.0"
      ]
     },
     "execution_count": 34,
     "metadata": {},
     "output_type": "execute_result"
    }
   ],
   "source": [
    "initial_solution"
   ]
  },
  {
   "cell_type": "code",
   "execution_count": 35,
   "metadata": {},
   "outputs": [
    {
     "ename": "NameError",
     "evalue": "name 'C_B' is not defined",
     "output_type": "error",
     "traceback": [
      "\u001b[0;31m---------------------------------------------------------------------------\u001b[0m",
      "\u001b[0;31mNameError\u001b[0m                                 Traceback (most recent call last)",
      "\u001b[0;32m<ipython-input-35-b050d6da5a3c>\u001b[0m in \u001b[0;36m<module>\u001b[0;34m\u001b[0m\n\u001b[0;32m----> 1\u001b[0;31m \u001b[0mC_B\u001b[0m\u001b[0;34m\u001b[0m\u001b[0;34m\u001b[0m\u001b[0m\n\u001b[0m",
      "\u001b[0;31mNameError\u001b[0m: name 'C_B' is not defined"
     ]
    }
   ],
   "source": [
    "C_B"
   ]
  },
  {
   "cell_type": "code",
   "execution_count": 36,
   "metadata": {},
   "outputs": [
    {
     "ename": "NameError",
     "evalue": "name 'B' is not defined",
     "output_type": "error",
     "traceback": [
      "\u001b[0;31m---------------------------------------------------------------------------\u001b[0m",
      "\u001b[0;31mNameError\u001b[0m                                 Traceback (most recent call last)",
      "\u001b[0;32m<ipython-input-36-31836aeaab22>\u001b[0m in \u001b[0;36m<module>\u001b[0;34m\u001b[0m\n\u001b[0;32m----> 1\u001b[0;31m \u001b[0mB\u001b[0m\u001b[0;34m\u001b[0m\u001b[0;34m\u001b[0m\u001b[0m\n\u001b[0m",
      "\u001b[0;31mNameError\u001b[0m: name 'B' is not defined"
     ]
    }
   ],
   "source": [
    "B"
   ]
  },
  {
   "cell_type": "code",
   "execution_count": 37,
   "metadata": {},
   "outputs": [
    {
     "data": {
      "text/plain": [
       "['s1']"
      ]
     },
     "execution_count": 37,
     "metadata": {},
     "output_type": "execute_result"
    }
   ],
   "source": [
    "s_vars[:-3]"
   ]
  },
  {
   "cell_type": "code",
   "execution_count": 38,
   "metadata": {},
   "outputs": [],
   "source": [
    "non_basis_vars = np.append(x_vars, s_vars[:-3])"
   ]
  },
  {
   "cell_type": "code",
   "execution_count": 39,
   "metadata": {},
   "outputs": [
    {
     "data": {
      "text/plain": [
       "'x1'"
      ]
     },
     "execution_count": 39,
     "metadata": {},
     "output_type": "execute_result"
    }
   ],
   "source": [
    "non_basis_vars[0]"
   ]
  },
  {
   "cell_type": "code",
   "execution_count": 40,
   "metadata": {},
   "outputs": [
    {
     "data": {
      "text/plain": [
       "['s1', 's2', 's3', 's4']"
      ]
     },
     "execution_count": 40,
     "metadata": {},
     "output_type": "execute_result"
    }
   ],
   "source": [
    "s_vars"
   ]
  },
  {
   "cell_type": "code",
   "execution_count": 41,
   "metadata": {},
   "outputs": [
    {
     "data": {
      "text/plain": [
       "['x1', 'x2', 'x3']"
      ]
     },
     "execution_count": 41,
     "metadata": {},
     "output_type": "execute_result"
    }
   ],
   "source": [
    "x_vars"
   ]
  },
  {
   "cell_type": "code",
   "execution_count": 42,
   "metadata": {},
   "outputs": [],
   "source": [
    "#Iteration 0 for revised simplex method.\n",
    "#we get standard form of the variables.\n",
    "c = new_C\n",
    "A = new_A\n",
    "z= 0\n",
    "b = np.array(b)\n",
    "b = b.reshape(3,1)\n",
    "C_n = []\n",
    "N_C = []\n",
    "count_slack = 0\n",
    "count_x = 0\n",
    "\n",
    "basis_vars = s_vars[-3:].copy()\n",
    "\n",
    "for i in range(len(c)):\n",
    "    if c[i] == 0:\n",
    "        count_slack+= 1\n",
    "    else: \n",
    "        count_x += 1\n",
    "        C_n.append(c[i])\n",
    "        N_C.append(A[:,i])\n",
    "\n",
    "\n",
    "     \n",
    "C_n = np.array(C_n)\n",
    "C_nx = np.arange(1, count_x +1)\n",
    "\n",
    "B = np.identity(count_slack)\n",
    "\n",
    "B_inv = np.linalg.inv(B)\n",
    "\n",
    "C_b = np.zeros(count_slack)\n",
    "C_bx = np.arange(1, count_slack+1)\n",
    "\n",
    "X_b = np.matmul(B_inv, b)\n",
    "\n",
    "z = np.matmul(np.matmul(C_b, B_inv), b)\n",
    "\n",
    "N_C = np.vstack(N_C)\n",
    "N_C = N_C.T\n",
    "\n",
    "N_B = B"
   ]
  },
  {
   "cell_type": "code",
   "execution_count": 43,
   "metadata": {
    "scrolled": true
   },
   "outputs": [
    {
     "name": "stdout",
     "output_type": "stream",
     "text": [
      "C_b is [0. 0. 0.]\n",
      "C_n is [ -95.  502.  109. -100.]\n",
      "We haven't reached an optimal solution. Continue iterating.\n",
      "The new B inverse is i [[ 1.   0.  -0.8]\n",
      " [ 0.   1.  -0.6]\n",
      " [ 0.   0.   0.2]] \n",
      "\n",
      "For this iteration,  basis variables and basic feasible solution as follows: \n",
      "Z is  [48.]\n",
      "Basis variables are  ['s2', 's3', 'x2'] and their values are respectively, [[54. 18. 24.]]\n",
      "C_b is [  0.   0. 502.]\n",
      "C_n is [ -95.    0.  109. -100.]\n",
      "We haven't reached an optimal solution. Continue iterating.\n",
      "The new B inverse is i [[ 1.  -0.5 -0.5]\n",
      " [ 0.   2.5 -1.5]\n",
      " [ 0.  -0.5  0.5]] \n",
      "\n",
      "For this iteration,  basis variables and basic feasible solution as follows: \n",
      "Z is  [435.]\n",
      "Basis variables are  ['s2', 'x3', 'x2'] and their values are respectively, [[45. 45. 15.]]\n",
      "C_b is [  0. 109. 502.]\n",
      "C_n is [ -95.    0.    0. -100.]\n",
      "We reached an optimum solution. \n",
      "\n",
      "The B inverse is [[ 1.  -0.5 -0.5]\n",
      " [ 0.   2.5 -1.5]\n",
      " [ 0.  -0.5  0.5]] \n",
      "\n",
      "The solution is [435.] \n",
      "\n",
      "Basis variables are  ['s2', 'x3', 'x2'] and their values are respectively [[45. 45. 15.]]\n"
     ]
    },
    {
     "ename": "SystemExit",
     "evalue": "",
     "output_type": "error",
     "traceback": [
      "An exception has occurred, use %tb to see the full traceback.\n",
      "\u001b[0;31mSystemExit\u001b[0m\n"
     ]
    },
    {
     "name": "stderr",
     "output_type": "stream",
     "text": [
      "/Users/emreuzel/anaconda3/lib/python3.7/site-packages/IPython/core/interactiveshell.py:3426: UserWarning: To exit: use 'exit', 'quit', or Ctrl-D.\n",
      "  warn(\"To exit: use 'exit', 'quit', or Ctrl-D.\", stacklevel=1)\n"
     ]
    }
   ],
   "source": [
    "while True:\n",
    "    \n",
    "    print('C_b is', C_b)\n",
    "    print('C_n is', C_n)\n",
    "    \n",
    "    \n",
    "    w = np.matmul(C_b, B_inv)\n",
    "    red_costs = np.matmul(w, N_C) - C_n\n",
    "    \n",
    "    opt_check(C_b, B_inv, N_C, C_n, initial_solution)\n",
    "    \n",
    "    sel_cost = np.min(red_costs)\n",
    "    entering_variable = red_costs.argmin()\n",
    "    y = np.matmul(B_inv, A[:,entering_variable])\n",
    "    y = y.reshape(3,1)\n",
    "    if np.max(X_b)< 0:\n",
    "        print('There is infeasible solution. All right hand side values are negative.')\n",
    "        sys.exit()\n",
    "\n",
    "    pos_leav_vars = (X_b / y) # unbounded or infeasible\n",
    "    if np.max(pos_leav_vars) <0:\n",
    "        print(\"There is unbounded solution. So we can't continue iterating.\")\n",
    "    \n",
    "    for i in range(len(pos_leav_vars)):\n",
    "        if pos_leav_vars[i] <= 0:\n",
    "            pos_leav_vars[i] = 100000\n",
    "    leav_var = np.argmin(pos_leav_vars)\n",
    "    \n",
    "    \n",
    "    E = find_E(y,leav_var, entering_variable)\n",
    "    B_inv = np.matmul(E, B_inv)\n",
    "    print('The new B inverse is i' , B_inv, '\\n')\n",
    "    \n",
    "    C_b[leav_var] = C_n[entering_variable]\n",
    "    C_n[entering_variable] = 0\n",
    "    tempx = non_basis_vars[entering_variable].copy()\n",
    "    non_basis_vars[entering_variable] = basis_vars[leav_var]\n",
    "    basis_vars[leav_var] = tempx\n",
    "    \n",
    "    X_b = np.matmul(B_inv, b)\n",
    "    z = np.matmul(np.matmul(C_b, B_inv), b)\n",
    "    print('For this iteration,  basis variables and basic feasible solution as follows: ')\n",
    "    print('Z is ', z - initial_solution )\n",
    "    print('Basis variables are ', basis_vars, 'and their values are respectively,', X_b.T)\n",
    "    temp = N_C[:,entering_variable].copy()\n",
    "    N_C[:,entering_variable] = N_B[:,leav_var]\n",
    "    N_B[:,leav_var] = temp\n",
    "    "
   ]
  },
  {
   "cell_type": "code",
   "execution_count": null,
   "metadata": {},
   "outputs": [],
   "source": []
  },
  {
   "cell_type": "code",
   "execution_count": null,
   "metadata": {},
   "outputs": [],
   "source": []
  },
  {
   "cell_type": "code",
   "execution_count": null,
   "metadata": {},
   "outputs": [],
   "source": []
  },
  {
   "cell_type": "code",
   "execution_count": null,
   "metadata": {},
   "outputs": [],
   "source": []
  }
 ],
 "metadata": {
  "kernelspec": {
   "display_name": "Python 3",
   "language": "python",
   "name": "python3"
  }
 },
 "nbformat": 4,
 "nbformat_minor": 4
}
